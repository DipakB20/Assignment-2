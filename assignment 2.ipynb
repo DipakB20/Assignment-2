{
 "cells": [
  {
   "cell_type": "markdown",
   "id": "b0eb0669-0b1f-481d-ab1f-35d0b156ea5a",
   "metadata": {},
   "source": [
    "Q1.Which keyword is used to create a function? Create a function to return a list of odd numbers in the\n",
    "range of 1 to 25."
   ]
  },
  {
   "cell_type": "markdown",
   "id": "b3a0cab7-a4d2-4844-ad52-f0207d346a38",
   "metadata": {},
   "source": [
    "In Python, the keyword used to create a function is def. Here's how you can create a function to return a list of odd numbers in the range of 1 to 25"
   ]
  },
  {
   "cell_type": "code",
   "execution_count": 11,
   "id": "9cd3d97a-d645-4ba5-8eb9-3f332b8cd2b9",
   "metadata": {},
   "outputs": [
    {
     "name": "stdout",
     "output_type": "stream",
     "text": [
      "[1, 3, 5, 7, 9, 11, 13, 15, 17, 19, 21, 23, 25]\n"
     ]
    }
   ],
   "source": [
    "def odd_numbers():\n",
    "    odd_list = [num for num in range(1, 26) if num % 2 != 0]\n",
    "    return odd_list\n",
    "\n",
    "result = odd_numbers()\n",
    "print(result)\n",
    "\n"
   ]
  },
  {
   "cell_type": "markdown",
   "id": "7eb6f60d-72dc-4e0e-b3c9-2dad7c98ac67",
   "metadata": {},
   "source": [
    "Q2. Why *args and **kwargs is used in some functions? Create a function each for *args and **kwargs\n",
    "to demonstrate their use."
   ]
  },
  {
   "cell_type": "markdown",
   "id": "7814471a-fa94-4a9f-b9e5-eb93d0e368b8",
   "metadata": {},
   "source": [
    "*args and **kwargs are used in Python functions to accept a variable number of arguments.\n",
    "\n",
    "*args is used to pass a variable number of positional arguments to a function. It collects all the positional arguments into a tuple.\n",
    "**kwargs is used to pass a variable number of keyword arguments to a function. It collects all the keyword arguments into a dictionary.\n",
    "\n",
    "demonstrate"
   ]
  },
  {
   "cell_type": "code",
   "execution_count": 10,
   "id": "ab029176-7b2d-4505-8581-83390f923bee",
   "metadata": {},
   "outputs": [
    {
     "name": "stdout",
     "output_type": "stream",
     "text": [
      "Sum of all numbers: 15\n",
      "name: Dipak\n",
      "age: 23\n",
      "city: mumbai\n"
     ]
    }
   ],
   "source": [
    "def sum_all(*args):\n",
    "    total = 0\n",
    "    for num in args:\n",
    "        total += num\n",
    "    return total\n",
    "\n",
    "\n",
    "def print_info(**kwargs):\n",
    "    for key, value in kwargs.items():\n",
    "        print(f\"{key}: {value}\")\n",
    "\n",
    "\n",
    "print(\"Sum of all numbers:\", sum_all(1, 2, 3, 4, 5))\n",
    "\n",
    "\n",
    "print_info(name=\"Dipak\", age=23, city=\"mumbai\")"
   ]
  },
  {
   "cell_type": "markdown",
   "id": "44cf84e2-b52b-4db2-93c9-3ef06d60c69a",
   "metadata": {},
   "source": [
    "Q3. What is an iterator in python? Name the method used to initialise the iterator object and the method\n",
    "used for iteration. Use these methods to print the first five elements of the given list [2, 4, 6, 8, 10, 12, 14,\n",
    "16, 18, 20]."
   ]
  },
  {
   "cell_type": "markdown",
   "id": "209718f8-4281-4e04-9cde-e2263ef5d85e",
   "metadata": {},
   "source": [
    "__iter__(): This method initializes the iterator object and returns itself. It's called when the iterator is created.\n",
    "\n",
    "__next__(): This method retrieves the next item from the iterator. It's called each time you call the next() function on the iterator object.\n",
    "\n",
    "You can use these methods to iterate over the elements of a list or any other iterable object.\n",
    "\n",
    "Here's how you can print the first five elements of the given list [2, 4, 6, 8, 10, 12, 14, 16, 18, "
   ]
  },
  {
   "cell_type": "code",
   "execution_count": 13,
   "id": "bf3e92cb-081f-4d43-930c-fc1b0a8684b9",
   "metadata": {},
   "outputs": [
    {
     "name": "stdout",
     "output_type": "stream",
     "text": [
      "2\n",
      "4\n",
      "6\n",
      "8\n",
      "10\n"
     ]
    }
   ],
   "source": [
    "my_list = [2, 4, 6, 8, 10, 12, 14, 16, 18, 20]\n",
    "\n",
    "\n",
    "iterator = iter(my_list)\n",
    "\n",
    "for _ in range(5):\n",
    "    print(next(iterator))"
   ]
  },
  {
   "cell_type": "markdown",
   "id": "29cb1502-acfa-40ea-a355-d12d471d6884",
   "metadata": {},
   "source": [
    "Q4. What is a generator function in python? Why yield keyword is used? Give an example of a generator\n",
    "function."
   ]
  },
  {
   "cell_type": "markdown",
   "id": "716f3047-49d9-43be-a7b4-79d657b30cbc",
   "metadata": {},
   "source": [
    "A generator function in Python is a special type of function that generates values on-the-fly instead of storing them in memory like a regular function would. It uses the yield keyword instead of return to return data.\n",
    "\n",
    "The yield keyword is used to temporarily suspend the execution of a generator function and yield a value to the caller. When the function is called again, it resumes execution from where it left off, retaining the state of the function.\n",
    "\n",
    "Here's an example of a generator function that generates squares of numbers up to a given limit:"
   ]
  },
  {
   "cell_type": "code",
   "execution_count": 14,
   "id": "54bdc818-8b20-413c-8e48-9329da4c91b4",
   "metadata": {},
   "outputs": [
    {
     "name": "stdout",
     "output_type": "stream",
     "text": [
      "1\n",
      "4\n",
      "9\n",
      "16\n",
      "25\n"
     ]
    }
   ],
   "source": [
    "def square_generator(limit):\n",
    "    num = 1\n",
    "    while num <= limit:\n",
    "        yield num ** 2\n",
    "        num += 1\n",
    "\n",
    "my_generator = square_generator(5)\n",
    "\n",
    "for square in my_generator:\n",
    "    print(square)"
   ]
  },
  {
   "cell_type": "markdown",
   "id": "b52cc1d1-5496-4f91-8b8b-8aa2ff40cc66",
   "metadata": {},
   "source": [
    "Q5. Create a generator function for prime numbers less than 1000. Use the next() method to print the\n",
    "first 20 prime numbers."
   ]
  },
  {
   "cell_type": "code",
   "execution_count": 15,
   "id": "fbdd6299-e526-4520-9d92-c342d3f35068",
   "metadata": {},
   "outputs": [
    {
     "name": "stdout",
     "output_type": "stream",
     "text": [
      "2\n",
      "3\n",
      "5\n",
      "7\n",
      "11\n",
      "13\n",
      "17\n",
      "19\n",
      "23\n",
      "29\n",
      "31\n",
      "37\n",
      "41\n",
      "43\n",
      "47\n",
      "53\n",
      "59\n",
      "61\n",
      "67\n",
      "71\n"
     ]
    }
   ],
   "source": [
    "def prime_generator():\n",
    "\n",
    "    num = 2\n",
    "    while True:\n",
    "        is_prime = True\n",
    "        for i in range(2, int(num**0.5) + 1):\n",
    "            if num % i == 0:\n",
    "                is_prime = False\n",
    "                break\n",
    "        if is_prime:\n",
    "            yield num\n",
    "        num += 1\n",
    "\n",
    "prime_gen = prime_generator()\n",
    "\n",
    "for _ in range(20):\n",
    "    print(next(prime_gen))"
   ]
  },
  {
   "cell_type": "markdown",
   "id": "ddbaa3a3-3919-4779-b3c8-941effd4e00c",
   "metadata": {},
   "source": [
    "Q6. Write a python program to print the first 10 Fibonacci numbers using a while loop."
   ]
  },
  {
   "cell_type": "code",
   "execution_count": 16,
   "id": "5e26a034-eaef-45f7-bacb-81d2c11073f4",
   "metadata": {},
   "outputs": [
    {
     "name": "stdin",
     "output_type": "stream",
     "text": [
      "enter the number of element you are looking for 10\n"
     ]
    },
    {
     "name": "stdout",
     "output_type": "stream",
     "text": [
      "0\n",
      "1\n",
      "1\n",
      "2\n",
      "3\n",
      "5\n",
      "8\n",
      "13\n",
      "21\n",
      "34\n"
     ]
    }
   ],
   "source": [
    "number = int(input(\"enter the number of element you are looking for\"))\n",
    "a , b = 0 , 1\n",
    "counter = 0\n",
    "while counter < number :\n",
    "    print(a)\n",
    "    c = a+b\n",
    "    a = b\n",
    "    b = c\n",
    "    counter = counter  +1"
   ]
  },
  {
   "cell_type": "markdown",
   "id": "0b4bd267-e669-4ccf-b8f0-112c4702d080",
   "metadata": {},
   "source": [
    "Q7. Write a List Comprehension to iterate through the given string: ‘pwskills’.\n",
    "Expected output: ['p', 'w', 's', 'k', 'i', 'l', 'l', 's']"
   ]
  },
  {
   "cell_type": "code",
   "execution_count": 17,
   "id": "be96f0ae-cda5-4a26-960e-323c5878a141",
   "metadata": {},
   "outputs": [
    {
     "name": "stdout",
     "output_type": "stream",
     "text": [
      "['p', 'w', 's', 'k', 'i', 'l', 'l', 's']\n"
     ]
    }
   ],
   "source": [
    "string = 'pwskills'\n",
    "\n",
    "char_list = [char for char in string]\n",
    "\n",
    "print(char_list)"
   ]
  },
  {
   "cell_type": "markdown",
   "id": "dc0e6471-1fd3-462f-9e80-c6600416f43e",
   "metadata": {},
   "source": [
    "Q8. Write a python program to check whether a given number is Palindrome or not using a while loop."
   ]
  },
  {
   "cell_type": "code",
   "execution_count": 18,
   "id": "7ffa3e89-f925-4780-87af-12f4564f2138",
   "metadata": {},
   "outputs": [
    {
     "name": "stdin",
     "output_type": "stream",
     "text": [
      "Enter a number to check if it's a palindrome:  50\n"
     ]
    },
    {
     "name": "stdout",
     "output_type": "stream",
     "text": [
      "50 is not a palindrome.\n"
     ]
    }
   ],
   "source": [
    "def is_palindrome(number):\n",
    "\n",
    "    number_str = str(number)\n",
    "    \n",
    "    left, right = 0, len(number_str) - 1\n",
    "    \n",
    "\n",
    "    while left < right:\n",
    "        if number_str[left] != number_str[right]:\n",
    "            return False\n",
    "        left += 1\n",
    "        right -= 1\n",
    "    return True\n",
    "\n",
    "number = int(input(\"Enter a number to check if it's a palindrome: \"))\n",
    "if is_palindrome(number):\n",
    "    print(number, \"is a palindrome.\")\n",
    "else:\n",
    "    print(number, \"is not a palindrome.\")\n"
   ]
  },
  {
   "cell_type": "markdown",
   "id": "0eda034b-7429-4283-b2ba-3f56f727e721",
   "metadata": {},
   "source": [
    "Q9. Write a code to print odd numbers from 1 to 100 using list comprehension.\n",
    "\n",
    "Note: Use a list comprehension to create a list from 1 to 100 and use another List comprehension to filter\n",
    "out odd numbers."
   ]
  },
  {
   "cell_type": "code",
   "execution_count": 19,
   "id": "7582ba31-e233-4e09-aae3-dc94b4612517",
   "metadata": {},
   "outputs": [
    {
     "name": "stdout",
     "output_type": "stream",
     "text": [
      "[1, 3, 5, 7, 9, 11, 13, 15, 17, 19, 21, 23, 25, 27, 29, 31, 33, 35, 37, 39, 41, 43, 45, 47, 49, 51, 53, 55, 57, 59, 61, 63, 65, 67, 69, 71, 73, 75, 77, 79, 81, 83, 85, 87, 89, 91, 93, 95, 97, 99]\n"
     ]
    }
   ],
   "source": [
    "numbers = [num for num in range(1, 101)]\n",
    "\n",
    "odd_numbers = [num for num in numbers if num % 2 != 0]\n",
    "\n",
    "print(odd_numbers)"
   ]
  },
  {
   "cell_type": "code",
   "execution_count": null,
   "id": "928c9a2e-6b0a-4e11-947e-172f8dbf766e",
   "metadata": {},
   "outputs": [],
   "source": []
  }
 ],
 "metadata": {
  "kernelspec": {
   "display_name": "Python 3 (ipykernel)",
   "language": "python",
   "name": "python3"
  },
  "language_info": {
   "codemirror_mode": {
    "name": "ipython",
    "version": 3
   },
   "file_extension": ".py",
   "mimetype": "text/x-python",
   "name": "python",
   "nbconvert_exporter": "python",
   "pygments_lexer": "ipython3",
   "version": "3.10.8"
  }
 },
 "nbformat": 4,
 "nbformat_minor": 5
}
